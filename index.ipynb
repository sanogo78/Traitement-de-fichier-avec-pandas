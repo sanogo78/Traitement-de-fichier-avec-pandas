{
 "cells": [
  {
   "cell_type": "markdown",
   "id": "8a8da50d",
   "metadata": {},
   "source": [
    "# Cours initiation au machine learning avec pandas/ Traitement de fichier avec pandas"
   ]
  },
  {
   "cell_type": "markdown",
   "id": "64848b4e",
   "metadata": {},
   "source": [
    "## I. IMPORTATION DU DATAFRAME"
   ]
  },
  {
   "cell_type": "code",
   "execution_count": null,
   "id": "f646e764",
   "metadata": {},
   "outputs": [
    {
     "ename": "",
     "evalue": "",
     "output_type": "error",
     "traceback": [
      "\u001b[1;31mÉchec du démarrage du Kernel. \n",
      "\u001b[1;31mImpossible de démarrer le noyau « pydata (Python 3.12.11) » en raison d’un délai d’attente d’utilisation des ports. \n",
      "\u001b[1;31mPour plus d’informations, consultez Jupyter <a href='command:jupyter.viewOutput'>log</a>."
     ]
    }
   ],
   "source": [
    "# Importation du module pandas\n",
    "import pandas as pd"
   ]
  },
  {
   "cell_type": "code",
   "execution_count": null,
   "id": "4a46565c",
   "metadata": {},
   "outputs": [],
   "source": [
    "# Importation du dataframe depuis la documentation de pandas\n",
    "# vous pouvez changer le nom de la variable df par le nom de votre choix\n",
    "df = pd.read_csv('https://raw.githubusercontent.com/pandas-dev/pandas/main/doc/data/titanic.csv', sep=',')\n",
    "print(\"Les 10 premières lignes sont : \")\n",
    "df.head(3)\n"
   ]
  },
  {
   "cell_type": "code",
   "execution_count": null,
   "id": "740b44ef",
   "metadata": {},
   "outputs": [],
   "source": [
    "#☻ les types de données\n",
    "print(\"Les types de données sont :\")\n",
    "df.dtypes"
   ]
  },
  {
   "cell_type": "code",
   "execution_count": null,
   "id": "93149f6e",
   "metadata": {},
   "outputs": [],
   "source": [
    "# Affichage des informations sur les données du dataframe\n",
    "df.info()"
   ]
  },
  {
   "cell_type": "code",
   "execution_count": null,
   "id": "1a26eccb",
   "metadata": {},
   "outputs": [],
   "source": [
    "# Affichage des dernières ligne du fichiers, par défaut 5 lignes\n",
    "print(\"Les 5 dernières lignes soont :\")\n",
    "df.tail()"
   ]
  },
  {
   "cell_type": "code",
   "execution_count": null,
   "id": "120e9a0c",
   "metadata": {},
   "outputs": [],
   "source": [
    "# Nombre de lignes et colonnes du dataframe\n",
    "print(\"Le nombre de lignes est :\", df.shape[0])\n",
    "print(\"Le nombre de colonnes est :\", df.shape[1])"
   ]
  },
  {
   "cell_type": "code",
   "execution_count": null,
   "id": "8b9a2d46",
   "metadata": {},
   "outputs": [],
   "source": [
    "# Conversion du fichier csv en fichier excel\n",
    "# Pour cela il faut installer le package openpyxl pour le traitement des fichiers excel\n",
    "# Importation du module openpyxl\n",
    "import openpyxl\n",
    "df.to_excel(\"convert.xlsx\", sheet_name=\"passager\", index=False)"
   ]
  },
  {
   "cell_type": "code",
   "execution_count": null,
   "id": "e2a01380",
   "metadata": {},
   "outputs": [],
   "source": [
    "# Attribution d'une nouvelle variable au nouveau fichier excel\n",
    "new_file = pd.read_excel(\"convert.xlsx\", sheet_name=\"passager\")\n",
    "# sauvegarder dans le fichier convert.xlsx\n",
    "# Affichage des 5 premières lignes du fichier excel\n",
    "new_file.head()"
   ]
  },
  {
   "cell_type": "markdown",
   "id": "1f1ec644",
   "metadata": {},
   "source": [
    "#  II. Selection de sous ensemble d'un dataframe"
   ]
  },
  {
   "cell_type": "markdown",
   "id": "fd8539a3",
   "metadata": {},
   "source": [
    "1. Dans cette partie nous allons nous intéressé à certaines colonnes uniquement de notre dataframe\n",
    "- Avec toujours les données du Titanic disponoble sur la documentation de pandas"
   ]
  },
  {
   "cell_type": "code",
   "execution_count": null,
   "id": "9b0b524c",
   "metadata": {},
   "outputs": [],
   "source": [
    "# Nous voulons nous intéressé a la colonne Age de notre dataframe\n",
    "\n",
    "# d'abord on declare une variable(ici: ages)\n",
    "\n",
    "ages = df[\"Age\"]\n",
    "# Affichage de quelques lignes de la variable ages\n",
    "print(\"Quelques lignes de la variable ages sont : \\n\", ages.head())\n",
    "print(\"\\n\")\n",
    "print(\"Le type de données de la variable ages est : \", ages.dtypes)\n",
    "print(\"\\n\")\n",
    "print(\"Le nombre de ligne total de la variable age est :\", ages.shape[0])"
   ]
  },
  {
   "cell_type": "code",
   "execution_count": null,
   "id": "ab31afcd",
   "metadata": {},
   "outputs": [],
   "source": [
    "# Maintenant nous allons nous intéresser à la variable age et sexe\n",
    "age_sex = df[[\"Age\" , \"Sex\"]]\n",
    "# Si vous voulez cibler des colonnes spécifiques, vous devez utiliser les doubles crochets [[]] et y listé les colonnes (comme ci-dessus)\n",
    "print(\"Quelques lignes : \")\n",
    "age_sex.head()"
   ]
  },
  {
   "cell_type": "markdown",
   "id": "d78de650",
   "metadata": {},
   "source": [
    "# Filtrage des lignes spécifiques dans un dataframe\n",
    "- Suppons que dans votre dataframe, vous avez la variable age avec differentes age et vous avez bésoin que d'une tranche d'âge.\n",
    "cette partie vous permettra de faire cette manipulation"
   ]
  },
  {
   "cell_type": "code",
   "execution_count": null,
   "id": "5a68b2dc",
   "metadata": {},
   "outputs": [],
   "source": [
    "# Je sui intéressé par les personnes de plus de 35 ans\n",
    "# Vous pouvez utiliser les opérations de comparaison au milieu des crochets\n",
    "age_sup_35 = df[df[\"Age\"]> 35]\n",
    "age_sup_35.head()"
   ]
  },
  {
   "cell_type": "code",
   "execution_count": null,
   "id": "5ee8756e",
   "metadata": {},
   "outputs": [],
   "source": [
    "# Nombre de ligne et colonne\n",
    "print(f\"Nous avons {age_sup_35.shape[0]} lignes de plus de 35 ans et {age_sup_35.shape[1]} colonnes\")"
   ]
  },
  {
   "cell_type": "code",
   "execution_count": null,
   "id": "c63c78d0",
   "metadata": {},
   "outputs": [],
   "source": [
    "# Filtrage des lignes dont l'âge est supérieur à 35, ce qui renvoie une série de booléens\n",
    "df[\"Age\"] > 35"
   ]
  },
  {
   "cell_type": "code",
   "execution_count": null,
   "id": "052e5d77",
   "metadata": {},
   "outputs": [],
   "source": [
    "# Je m'intéresse au passager de classe 2 et 3\n",
    "classe_2_3 = df[df[\"Pclass\"].isin([2,3])]\n",
    "\n",
    "# Affichage de l'entête\n",
    "classe_2_3.head(10)"
   ]
  },
  {
   "cell_type": "code",
   "execution_count": null,
   "id": "358d001b",
   "metadata": {},
   "outputs": [],
   "source": [
    "# Nombre de ligne et colonne\n",
    "print(f\"Le nombre de ligne est : {classe_2_3.shape[0]} et le nombre de colonne est : {classe_2_3.shape[1]}\")"
   ]
  },
  {
   "cell_type": "code",
   "execution_count": null,
   "id": "867ceb24",
   "metadata": {},
   "outputs": [],
   "source": [
    "# Puisque les données sont sont issues d'une enquête certain variable sont peut être vide (NAN)\n",
    "# Prenons le cas de l'âge où il y'a certaine personne qui n'ont pas mis leur âge pour des raisons personnelles\n",
    "age_no = df[df[\"Age\"].notna()]\n",
    "# Affichage des 5 1ères lignes\n",
    "age_no.head()"
   ]
  },
  {
   "cell_type": "code",
   "execution_count": null,
   "id": "cf33a859",
   "metadata": {},
   "outputs": [],
   "source": [
    "# Nombre total de personne ayant renseigné leur âge\n",
    "print(f\"Le nombre total de personne ayant renseigné leur âge est : {age_no.shape[0]}\")"
   ]
  }
 ],
 "metadata": {
  "kernelspec": {
   "display_name": "pydata",
   "language": "python",
   "name": "python3"
  },
  "language_info": {
   "codemirror_mode": {
    "name": "ipython",
    "version": 3
   },
   "file_extension": ".py",
   "mimetype": "text/x-python",
   "name": "python",
   "nbconvert_exporter": "python",
   "pygments_lexer": "ipython3",
   "version": "3.12.11"
  }
 },
 "nbformat": 4,
 "nbformat_minor": 5
}
